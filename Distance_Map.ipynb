{
 "cells": [
  {
   "cell_type": "code",
   "execution_count": 171,
   "metadata": {},
   "outputs": [],
   "source": [
    "import pandas as pd\n",
    "import folium"
   ]
  },
  {
   "cell_type": "code",
   "execution_count": 2,
   "metadata": {},
   "outputs": [],
   "source": [
    "HRD_df = pd.read_csv('HRDstats.csv')"
   ]
  },
  {
   "cell_type": "code",
   "execution_count": 3,
   "metadata": {},
   "outputs": [],
   "source": [
    "HRD_df = HRD_df.rename(columns={\"Exit Velocity (MPH)\": \"Exit_Velocity\", \"Distance (Ft.)\": \"Distance\", \"Launch Angle\": \"Launch_Angle\", \"HR Count\": \"HR_Count\" })"
   ]
  },
  {
   "cell_type": "code",
   "execution_count": 4,
   "metadata": {},
   "outputs": [
    {
     "data": {
      "text/html": [
       "<div>\n",
       "<style scoped>\n",
       "    .dataframe tbody tr th:only-of-type {\n",
       "        vertical-align: middle;\n",
       "    }\n",
       "\n",
       "    .dataframe tbody tr th {\n",
       "        vertical-align: top;\n",
       "    }\n",
       "\n",
       "    .dataframe thead th {\n",
       "        text-align: right;\n",
       "    }\n",
       "</style>\n",
       "<table border=\"1\" class=\"dataframe\">\n",
       "  <thead>\n",
       "    <tr style=\"text-align: right;\">\n",
       "      <th></th>\n",
       "      <th>Player</th>\n",
       "      <th>Round</th>\n",
       "      <th>Exit_Velocity</th>\n",
       "      <th>Distance</th>\n",
       "      <th>Launch_Angle</th>\n",
       "    </tr>\n",
       "  </thead>\n",
       "  <tbody>\n",
       "    <tr>\n",
       "      <th>0</th>\n",
       "      <td>Vladimir Guerrero Jr.</td>\n",
       "      <td>3</td>\n",
       "      <td>100</td>\n",
       "      <td>379</td>\n",
       "      <td>34</td>\n",
       "    </tr>\n",
       "    <tr>\n",
       "      <th>1</th>\n",
       "      <td>Vladimir Guerrero Jr.</td>\n",
       "      <td>3</td>\n",
       "      <td>104</td>\n",
       "      <td>429</td>\n",
       "      <td>27</td>\n",
       "    </tr>\n",
       "    <tr>\n",
       "      <th>2</th>\n",
       "      <td>Vladimir Guerrero Jr.</td>\n",
       "      <td>3</td>\n",
       "      <td>102</td>\n",
       "      <td>437</td>\n",
       "      <td>30</td>\n",
       "    </tr>\n",
       "    <tr>\n",
       "      <th>3</th>\n",
       "      <td>Vladimir Guerrero Jr.</td>\n",
       "      <td>3</td>\n",
       "      <td>95</td>\n",
       "      <td>393</td>\n",
       "      <td>30</td>\n",
       "    </tr>\n",
       "    <tr>\n",
       "      <th>4</th>\n",
       "      <td>Vladimir Guerrero Jr.</td>\n",
       "      <td>3</td>\n",
       "      <td>102</td>\n",
       "      <td>426</td>\n",
       "      <td>24</td>\n",
       "    </tr>\n",
       "    <tr>\n",
       "      <th>...</th>\n",
       "      <td>...</td>\n",
       "      <td>...</td>\n",
       "      <td>...</td>\n",
       "      <td>...</td>\n",
       "      <td>...</td>\n",
       "    </tr>\n",
       "    <tr>\n",
       "      <th>303</th>\n",
       "      <td>Matt Chapman</td>\n",
       "      <td>1</td>\n",
       "      <td>109</td>\n",
       "      <td>473</td>\n",
       "      <td>30</td>\n",
       "    </tr>\n",
       "    <tr>\n",
       "      <th>304</th>\n",
       "      <td>Matt Chapman</td>\n",
       "      <td>1</td>\n",
       "      <td>105</td>\n",
       "      <td>451</td>\n",
       "      <td>27</td>\n",
       "    </tr>\n",
       "    <tr>\n",
       "      <th>305</th>\n",
       "      <td>Matt Chapman</td>\n",
       "      <td>1</td>\n",
       "      <td>106</td>\n",
       "      <td>440</td>\n",
       "      <td>32</td>\n",
       "    </tr>\n",
       "    <tr>\n",
       "      <th>306</th>\n",
       "      <td>Matt Chapman</td>\n",
       "      <td>1</td>\n",
       "      <td>105</td>\n",
       "      <td>442</td>\n",
       "      <td>33</td>\n",
       "    </tr>\n",
       "    <tr>\n",
       "      <th>307</th>\n",
       "      <td>Matt Chapman</td>\n",
       "      <td>1</td>\n",
       "      <td>108</td>\n",
       "      <td>477</td>\n",
       "      <td>27</td>\n",
       "    </tr>\n",
       "  </tbody>\n",
       "</table>\n",
       "<p>308 rows × 5 columns</p>\n",
       "</div>"
      ],
      "text/plain": [
       "                    Player  Round  Exit_Velocity  Distance  Launch_Angle\n",
       "0    Vladimir Guerrero Jr.      3            100       379            34\n",
       "1    Vladimir Guerrero Jr.      3            104       429            27\n",
       "2    Vladimir Guerrero Jr.      3            102       437            30\n",
       "3    Vladimir Guerrero Jr.      3             95       393            30\n",
       "4    Vladimir Guerrero Jr.      3            102       426            24\n",
       "..                     ...    ...            ...       ...           ...\n",
       "303           Matt Chapman      1            109       473            30\n",
       "304           Matt Chapman      1            105       451            27\n",
       "305           Matt Chapman      1            106       440            32\n",
       "306           Matt Chapman      1            105       442            33\n",
       "307           Matt Chapman      1            108       477            27\n",
       "\n",
       "[308 rows x 5 columns]"
      ]
     },
     "execution_count": 4,
     "metadata": {},
     "output_type": "execute_result"
    }
   ],
   "source": [
    "HRD_df"
   ]
  },
  {
   "cell_type": "code",
   "execution_count": 5,
   "metadata": {},
   "outputs": [
    {
     "data": {
      "text/plain": [
       "array(['Vladimir Guerrero Jr.', 'Pete Alonso', 'Ronald Acuna Jr.',\n",
       "       'Joc Pederson', 'Carlos Santana', 'Alex Bregman', 'Josh Bell',\n",
       "       'Matt Chapman'], dtype=object)"
      ]
     },
     "execution_count": 5,
     "metadata": {},
     "output_type": "execute_result"
    }
   ],
   "source": [
    "Players = []\n",
    "Players = HRD_df[\"Player\"].unique()\n",
    "Players"
   ]
  },
  {
   "cell_type": "code",
   "execution_count": 6,
   "metadata": {},
   "outputs": [],
   "source": [
    "HRD_df.set_index(\"Player\", inplace = True)"
   ]
  },
  {
   "cell_type": "code",
   "execution_count": 7,
   "metadata": {},
   "outputs": [],
   "source": [
    "dist=[\"Distance\"]\n",
    "distance_df=HRD_df.loc[:, dist]"
   ]
  },
  {
   "cell_type": "code",
   "execution_count": 8,
   "metadata": {},
   "outputs": [
    {
     "data": {
      "text/html": [
       "<div>\n",
       "<style scoped>\n",
       "    .dataframe tbody tr th:only-of-type {\n",
       "        vertical-align: middle;\n",
       "    }\n",
       "\n",
       "    .dataframe tbody tr th {\n",
       "        vertical-align: top;\n",
       "    }\n",
       "\n",
       "    .dataframe thead th {\n",
       "        text-align: right;\n",
       "    }\n",
       "</style>\n",
       "<table border=\"1\" class=\"dataframe\">\n",
       "  <thead>\n",
       "    <tr style=\"text-align: right;\">\n",
       "      <th></th>\n",
       "      <th>Distance</th>\n",
       "    </tr>\n",
       "    <tr>\n",
       "      <th>Player</th>\n",
       "      <th></th>\n",
       "    </tr>\n",
       "  </thead>\n",
       "  <tbody>\n",
       "    <tr>\n",
       "      <th>Vladimir Guerrero Jr.</th>\n",
       "      <td>379</td>\n",
       "    </tr>\n",
       "    <tr>\n",
       "      <th>Vladimir Guerrero Jr.</th>\n",
       "      <td>429</td>\n",
       "    </tr>\n",
       "    <tr>\n",
       "      <th>Vladimir Guerrero Jr.</th>\n",
       "      <td>437</td>\n",
       "    </tr>\n",
       "    <tr>\n",
       "      <th>Vladimir Guerrero Jr.</th>\n",
       "      <td>393</td>\n",
       "    </tr>\n",
       "    <tr>\n",
       "      <th>Vladimir Guerrero Jr.</th>\n",
       "      <td>426</td>\n",
       "    </tr>\n",
       "    <tr>\n",
       "      <th>...</th>\n",
       "      <td>...</td>\n",
       "    </tr>\n",
       "    <tr>\n",
       "      <th>Matt Chapman</th>\n",
       "      <td>473</td>\n",
       "    </tr>\n",
       "    <tr>\n",
       "      <th>Matt Chapman</th>\n",
       "      <td>451</td>\n",
       "    </tr>\n",
       "    <tr>\n",
       "      <th>Matt Chapman</th>\n",
       "      <td>440</td>\n",
       "    </tr>\n",
       "    <tr>\n",
       "      <th>Matt Chapman</th>\n",
       "      <td>442</td>\n",
       "    </tr>\n",
       "    <tr>\n",
       "      <th>Matt Chapman</th>\n",
       "      <td>477</td>\n",
       "    </tr>\n",
       "  </tbody>\n",
       "</table>\n",
       "<p>308 rows × 1 columns</p>\n",
       "</div>"
      ],
      "text/plain": [
       "                       Distance\n",
       "Player                         \n",
       "Vladimir Guerrero Jr.       379\n",
       "Vladimir Guerrero Jr.       429\n",
       "Vladimir Guerrero Jr.       437\n",
       "Vladimir Guerrero Jr.       393\n",
       "Vladimir Guerrero Jr.       426\n",
       "...                         ...\n",
       "Matt Chapman                473\n",
       "Matt Chapman                451\n",
       "Matt Chapman                440\n",
       "Matt Chapman                442\n",
       "Matt Chapman                477\n",
       "\n",
       "[308 rows x 1 columns]"
      ]
     },
     "execution_count": 8,
     "metadata": {},
     "output_type": "execute_result"
    }
   ],
   "source": [
    "distance_df"
   ]
  },
  {
   "cell_type": "code",
   "execution_count": 99,
   "metadata": {},
   "outputs": [],
   "source": [
    "FEET_TO_M = 0.3048\n",
    "distance_df['Distance(m)'] = distance_df['Distance'] * FEET_TO_M"
   ]
  },
  {
   "cell_type": "code",
   "execution_count": 100,
   "metadata": {},
   "outputs": [
    {
     "data": {
      "text/html": [
       "<div>\n",
       "<style scoped>\n",
       "    .dataframe tbody tr th:only-of-type {\n",
       "        vertical-align: middle;\n",
       "    }\n",
       "\n",
       "    .dataframe tbody tr th {\n",
       "        vertical-align: top;\n",
       "    }\n",
       "\n",
       "    .dataframe thead th {\n",
       "        text-align: right;\n",
       "    }\n",
       "</style>\n",
       "<table border=\"1\" class=\"dataframe\">\n",
       "  <thead>\n",
       "    <tr style=\"text-align: right;\">\n",
       "      <th></th>\n",
       "      <th>Distance</th>\n",
       "      <th>Distance(m)</th>\n",
       "    </tr>\n",
       "    <tr>\n",
       "      <th>Player</th>\n",
       "      <th></th>\n",
       "      <th></th>\n",
       "    </tr>\n",
       "  </thead>\n",
       "  <tbody>\n",
       "    <tr>\n",
       "      <th>Vladimir Guerrero Jr.</th>\n",
       "      <td>379</td>\n",
       "      <td>115.5192</td>\n",
       "    </tr>\n",
       "    <tr>\n",
       "      <th>Vladimir Guerrero Jr.</th>\n",
       "      <td>429</td>\n",
       "      <td>130.7592</td>\n",
       "    </tr>\n",
       "    <tr>\n",
       "      <th>Vladimir Guerrero Jr.</th>\n",
       "      <td>437</td>\n",
       "      <td>133.1976</td>\n",
       "    </tr>\n",
       "    <tr>\n",
       "      <th>Vladimir Guerrero Jr.</th>\n",
       "      <td>393</td>\n",
       "      <td>119.7864</td>\n",
       "    </tr>\n",
       "    <tr>\n",
       "      <th>Vladimir Guerrero Jr.</th>\n",
       "      <td>426</td>\n",
       "      <td>129.8448</td>\n",
       "    </tr>\n",
       "    <tr>\n",
       "      <th>...</th>\n",
       "      <td>...</td>\n",
       "      <td>...</td>\n",
       "    </tr>\n",
       "    <tr>\n",
       "      <th>Matt Chapman</th>\n",
       "      <td>473</td>\n",
       "      <td>144.1704</td>\n",
       "    </tr>\n",
       "    <tr>\n",
       "      <th>Matt Chapman</th>\n",
       "      <td>451</td>\n",
       "      <td>137.4648</td>\n",
       "    </tr>\n",
       "    <tr>\n",
       "      <th>Matt Chapman</th>\n",
       "      <td>440</td>\n",
       "      <td>134.1120</td>\n",
       "    </tr>\n",
       "    <tr>\n",
       "      <th>Matt Chapman</th>\n",
       "      <td>442</td>\n",
       "      <td>134.7216</td>\n",
       "    </tr>\n",
       "    <tr>\n",
       "      <th>Matt Chapman</th>\n",
       "      <td>477</td>\n",
       "      <td>145.3896</td>\n",
       "    </tr>\n",
       "  </tbody>\n",
       "</table>\n",
       "<p>308 rows × 2 columns</p>\n",
       "</div>"
      ],
      "text/plain": [
       "                       Distance  Distance(m)\n",
       "Player                                      \n",
       "Vladimir Guerrero Jr.       379     115.5192\n",
       "Vladimir Guerrero Jr.       429     130.7592\n",
       "Vladimir Guerrero Jr.       437     133.1976\n",
       "Vladimir Guerrero Jr.       393     119.7864\n",
       "Vladimir Guerrero Jr.       426     129.8448\n",
       "...                         ...          ...\n",
       "Matt Chapman                473     144.1704\n",
       "Matt Chapman                451     137.4648\n",
       "Matt Chapman                440     134.1120\n",
       "Matt Chapman                442     134.7216\n",
       "Matt Chapman                477     145.3896\n",
       "\n",
       "[308 rows x 2 columns]"
      ]
     },
     "execution_count": 100,
     "metadata": {},
     "output_type": "execute_result"
    }
   ],
   "source": [
    "distance_df"
   ]
  },
  {
   "cell_type": "code",
   "execution_count": 119,
   "metadata": {},
   "outputs": [],
   "source": [
    "total_dist = distance_df.groupby([\"Player\"]).sum()"
   ]
  },
  {
   "cell_type": "code",
   "execution_count": 124,
   "metadata": {},
   "outputs": [
    {
     "data": {
      "text/html": [
       "<div>\n",
       "<style scoped>\n",
       "    .dataframe tbody tr th:only-of-type {\n",
       "        vertical-align: middle;\n",
       "    }\n",
       "\n",
       "    .dataframe tbody tr th {\n",
       "        vertical-align: top;\n",
       "    }\n",
       "\n",
       "    .dataframe thead th {\n",
       "        text-align: right;\n",
       "    }\n",
       "</style>\n",
       "<table border=\"1\" class=\"dataframe\">\n",
       "  <thead>\n",
       "    <tr style=\"text-align: right;\">\n",
       "      <th></th>\n",
       "      <th>Distance</th>\n",
       "      <th>Distance(m)</th>\n",
       "    </tr>\n",
       "    <tr>\n",
       "      <th>Player</th>\n",
       "      <th></th>\n",
       "      <th></th>\n",
       "    </tr>\n",
       "  </thead>\n",
       "  <tbody>\n",
       "    <tr>\n",
       "      <th>Alex Bregman</th>\n",
       "      <td>5819</td>\n",
       "      <td>1773.6312</td>\n",
       "    </tr>\n",
       "    <tr>\n",
       "      <th>Carlos Santana</th>\n",
       "      <td>5226</td>\n",
       "      <td>1592.8848</td>\n",
       "    </tr>\n",
       "    <tr>\n",
       "      <th>Joc Pederson</th>\n",
       "      <td>24761</td>\n",
       "      <td>7547.1528</td>\n",
       "    </tr>\n",
       "    <tr>\n",
       "      <th>Josh Bell</th>\n",
       "      <td>7486</td>\n",
       "      <td>2281.7328</td>\n",
       "    </tr>\n",
       "    <tr>\n",
       "      <th>Matt Chapman</th>\n",
       "      <td>5617</td>\n",
       "      <td>1712.0616</td>\n",
       "    </tr>\n",
       "    <tr>\n",
       "      <th>Pete Alonso</th>\n",
       "      <td>24133</td>\n",
       "      <td>7355.7384</td>\n",
       "    </tr>\n",
       "    <tr>\n",
       "      <th>Ronald Acuna Jr.</th>\n",
       "      <td>18704</td>\n",
       "      <td>5700.9792</td>\n",
       "    </tr>\n",
       "    <tr>\n",
       "      <th>Vladimir Guerrero Jr.</th>\n",
       "      <td>37438</td>\n",
       "      <td>11411.1024</td>\n",
       "    </tr>\n",
       "  </tbody>\n",
       "</table>\n",
       "</div>"
      ],
      "text/plain": [
       "                       Distance  Distance(m)\n",
       "Player                                      \n",
       "Alex Bregman               5819    1773.6312\n",
       "Carlos Santana             5226    1592.8848\n",
       "Joc Pederson              24761    7547.1528\n",
       "Josh Bell                  7486    2281.7328\n",
       "Matt Chapman               5617    1712.0616\n",
       "Pete Alonso               24133    7355.7384\n",
       "Ronald Acuna Jr.          18704    5700.9792\n",
       "Vladimir Guerrero Jr.     37438   11411.1024"
      ]
     },
     "execution_count": 124,
     "metadata": {},
     "output_type": "execute_result"
    }
   ],
   "source": [
    "total_dist"
   ]
  },
  {
   "cell_type": "code",
   "execution_count": 166,
   "metadata": {},
   "outputs": [],
   "source": [
    "lat = 41.495544\n",
    "lon = -81.685285\n",
    "\n",
    "\n",
    "\n",
    "m = folium.Map(location=[lat, lon], zoom_start=10)"
   ]
  },
  {
   "cell_type": "code",
   "execution_count": 167,
   "metadata": {},
   "outputs": [
    {
     "data": {
      "text/plain": [
       "<folium.map.Marker at 0x243e0cf4f70>"
      ]
     },
     "execution_count": 167,
     "metadata": {},
     "output_type": "execute_result"
    }
   ],
   "source": [
    "folium.Marker(\n",
    "    [lat, lon], popup=\"Home Plate - Progressive Field\"\n",
    ").add_to(m)"
   ]
  },
  {
   "cell_type": "code",
   "execution_count": 168,
   "metadata": {},
   "outputs": [
    {
     "data": {
      "text/plain": [
       "<folium.vector_layers.Circle at 0x243e0d58970>"
      ]
     },
     "execution_count": 168,
     "metadata": {},
     "output_type": "execute_result"
    }
   ],
   "source": [
    "colors = ['red', 'blue', 'green', 'purple', 'orange', 'darkred', 'darkblue', 'cadetblue' ]\n",
    "n=0\n",
    "tdistm=0\n",
    "tdistft=0\n",
    "\n",
    "for index, row in total_dist.iterrows():\n",
    "    \n",
    "    label= '{}, {} feet'.format(index, row[0])\n",
    "    \n",
    "    folium.Circle(\n",
    "        radius=row[\"Distance(m)\"],\n",
    "        location=[lat, lon],\n",
    "        popup=label,\n",
    "        color=colors[n],\n",
    "        fill=False,\n",
    "        weight=5\n",
    "#         fill_opacity= .2,\n",
    "        ).add_to(m)\n",
    "    \n",
    "    tdistm=tdistm + row[\"Distance(m)\"]\n",
    "    tdistft=tdistft + row[\"Distance\"]\n",
    "    \n",
    "    n=n+1\n",
    "tlabel='{}, {} feet'.format(\"All Batters\",tdistft)\n",
    "folium.Circle(\n",
    "    radius=tdistm,\n",
    "    location=[lat,lon],\n",
    "    popup=tlabel,\n",
    "    color='black'\n",
    "    ).add_to(m)"
   ]
  },
  {
   "cell_type": "code",
   "execution_count": 177,
   "metadata": {
    "scrolled": false
   },
   "outputs": [
    {
     "data": {
      "text/html": [
       "<div style=\"width:100%;\"><div style=\"position:relative;width:100%;height:0;padding-bottom:60%;\"><span style=\"color:#565656\">Make this Notebook Trusted to load map: File -> Trust Notebook</span><iframe src=\"about:blank\" style=\"position:absolute;width:100%;height:100%;left:0;top:0;border:none !important;\" data-html=%3C%21DOCTYPE%20html%3E%0A%3Chead%3E%20%20%20%20%0A%20%20%20%20%3Cmeta%20http-equiv%3D%22content-type%22%20content%3D%22text/html%3B%20charset%3DUTF-8%22%20/%3E%0A%20%20%20%20%0A%20%20%20%20%20%20%20%20%3Cscript%3E%0A%20%20%20%20%20%20%20%20%20%20%20%20L_NO_TOUCH%20%3D%20false%3B%0A%20%20%20%20%20%20%20%20%20%20%20%20L_DISABLE_3D%20%3D%20false%3B%0A%20%20%20%20%20%20%20%20%3C/script%3E%0A%20%20%20%20%0A%20%20%20%20%3Cstyle%3Ehtml%2C%20body%20%7Bwidth%3A%20100%25%3Bheight%3A%20100%25%3Bmargin%3A%200%3Bpadding%3A%200%3B%7D%3C/style%3E%0A%20%20%20%20%3Cstyle%3E%23map%20%7Bposition%3Aabsolute%3Btop%3A0%3Bbottom%3A0%3Bright%3A0%3Bleft%3A0%3B%7D%3C/style%3E%0A%20%20%20%20%3Cscript%20src%3D%22https%3A//cdn.jsdelivr.net/npm/leaflet%401.6.0/dist/leaflet.js%22%3E%3C/script%3E%0A%20%20%20%20%3Cscript%20src%3D%22https%3A//code.jquery.com/jquery-1.12.4.min.js%22%3E%3C/script%3E%0A%20%20%20%20%3Cscript%20src%3D%22https%3A//maxcdn.bootstrapcdn.com/bootstrap/3.2.0/js/bootstrap.min.js%22%3E%3C/script%3E%0A%20%20%20%20%3Cscript%20src%3D%22https%3A//cdnjs.cloudflare.com/ajax/libs/Leaflet.awesome-markers/2.0.2/leaflet.awesome-markers.js%22%3E%3C/script%3E%0A%20%20%20%20%3Clink%20rel%3D%22stylesheet%22%20href%3D%22https%3A//cdn.jsdelivr.net/npm/leaflet%401.6.0/dist/leaflet.css%22/%3E%0A%20%20%20%20%3Clink%20rel%3D%22stylesheet%22%20href%3D%22https%3A//maxcdn.bootstrapcdn.com/bootstrap/3.2.0/css/bootstrap.min.css%22/%3E%0A%20%20%20%20%3Clink%20rel%3D%22stylesheet%22%20href%3D%22https%3A//maxcdn.bootstrapcdn.com/bootstrap/3.2.0/css/bootstrap-theme.min.css%22/%3E%0A%20%20%20%20%3Clink%20rel%3D%22stylesheet%22%20href%3D%22https%3A//maxcdn.bootstrapcdn.com/font-awesome/4.6.3/css/font-awesome.min.css%22/%3E%0A%20%20%20%20%3Clink%20rel%3D%22stylesheet%22%20href%3D%22https%3A//cdnjs.cloudflare.com/ajax/libs/Leaflet.awesome-markers/2.0.2/leaflet.awesome-markers.css%22/%3E%0A%20%20%20%20%3Clink%20rel%3D%22stylesheet%22%20href%3D%22https%3A//cdn.jsdelivr.net/gh/python-visualization/folium/folium/templates/leaflet.awesome.rotate.min.css%22/%3E%0A%20%20%20%20%0A%20%20%20%20%20%20%20%20%20%20%20%20%3Cmeta%20name%3D%22viewport%22%20content%3D%22width%3Ddevice-width%2C%0A%20%20%20%20%20%20%20%20%20%20%20%20%20%20%20%20initial-scale%3D1.0%2C%20maximum-scale%3D1.0%2C%20user-scalable%3Dno%22%20/%3E%0A%20%20%20%20%20%20%20%20%20%20%20%20%3Cstyle%3E%0A%20%20%20%20%20%20%20%20%20%20%20%20%20%20%20%20%23map_ee6ca81d324b410cb7a4e5b891430cc7%20%7B%0A%20%20%20%20%20%20%20%20%20%20%20%20%20%20%20%20%20%20%20%20position%3A%20relative%3B%0A%20%20%20%20%20%20%20%20%20%20%20%20%20%20%20%20%20%20%20%20width%3A%20100.0%25%3B%0A%20%20%20%20%20%20%20%20%20%20%20%20%20%20%20%20%20%20%20%20height%3A%20100.0%25%3B%0A%20%20%20%20%20%20%20%20%20%20%20%20%20%20%20%20%20%20%20%20left%3A%200.0%25%3B%0A%20%20%20%20%20%20%20%20%20%20%20%20%20%20%20%20%20%20%20%20top%3A%200.0%25%3B%0A%20%20%20%20%20%20%20%20%20%20%20%20%20%20%20%20%7D%0A%20%20%20%20%20%20%20%20%20%20%20%20%3C/style%3E%0A%20%20%20%20%20%20%20%20%0A%3C/head%3E%0A%3Cbody%3E%20%20%20%20%0A%20%20%20%20%0A%20%20%20%20%20%20%20%20%20%20%20%20%3Cdiv%20class%3D%22folium-map%22%20id%3D%22map_ee6ca81d324b410cb7a4e5b891430cc7%22%20%3E%3C/div%3E%0A%20%20%20%20%20%20%20%20%0A%3C/body%3E%0A%3Cscript%3E%20%20%20%20%0A%20%20%20%20%0A%20%20%20%20%20%20%20%20%20%20%20%20var%20map_ee6ca81d324b410cb7a4e5b891430cc7%20%3D%20L.map%28%0A%20%20%20%20%20%20%20%20%20%20%20%20%20%20%20%20%22map_ee6ca81d324b410cb7a4e5b891430cc7%22%2C%0A%20%20%20%20%20%20%20%20%20%20%20%20%20%20%20%20%7B%0A%20%20%20%20%20%20%20%20%20%20%20%20%20%20%20%20%20%20%20%20center%3A%20%5B41.495544%2C%20-81.685285%5D%2C%0A%20%20%20%20%20%20%20%20%20%20%20%20%20%20%20%20%20%20%20%20crs%3A%20L.CRS.EPSG3857%2C%0A%20%20%20%20%20%20%20%20%20%20%20%20%20%20%20%20%20%20%20%20zoom%3A%2010%2C%0A%20%20%20%20%20%20%20%20%20%20%20%20%20%20%20%20%20%20%20%20zoomControl%3A%20true%2C%0A%20%20%20%20%20%20%20%20%20%20%20%20%20%20%20%20%20%20%20%20preferCanvas%3A%20false%2C%0A%20%20%20%20%20%20%20%20%20%20%20%20%20%20%20%20%7D%0A%20%20%20%20%20%20%20%20%20%20%20%20%29%3B%0A%0A%20%20%20%20%20%20%20%20%20%20%20%20%0A%0A%20%20%20%20%20%20%20%20%0A%20%20%20%20%0A%20%20%20%20%20%20%20%20%20%20%20%20var%20tile_layer_478952cd7317491fb12f4b504c34a9a2%20%3D%20L.tileLayer%28%0A%20%20%20%20%20%20%20%20%20%20%20%20%20%20%20%20%22https%3A//%7Bs%7D.tile.openstreetmap.org/%7Bz%7D/%7Bx%7D/%7By%7D.png%22%2C%0A%20%20%20%20%20%20%20%20%20%20%20%20%20%20%20%20%7B%22attribution%22%3A%20%22Data%20by%20%5Cu0026copy%3B%20%5Cu003ca%20href%3D%5C%22http%3A//openstreetmap.org%5C%22%5Cu003eOpenStreetMap%5Cu003c/a%5Cu003e%2C%20under%20%5Cu003ca%20href%3D%5C%22http%3A//www.openstreetmap.org/copyright%5C%22%5Cu003eODbL%5Cu003c/a%5Cu003e.%22%2C%20%22detectRetina%22%3A%20false%2C%20%22maxNativeZoom%22%3A%2018%2C%20%22maxZoom%22%3A%2018%2C%20%22minZoom%22%3A%200%2C%20%22noWrap%22%3A%20false%2C%20%22opacity%22%3A%201%2C%20%22subdomains%22%3A%20%22abc%22%2C%20%22tms%22%3A%20false%7D%0A%20%20%20%20%20%20%20%20%20%20%20%20%29.addTo%28map_ee6ca81d324b410cb7a4e5b891430cc7%29%3B%0A%20%20%20%20%20%20%20%20%0A%20%20%20%20%0A%20%20%20%20%20%20%20%20%20%20%20%20var%20marker_f0fae02c665f4b8598a602b178789018%20%3D%20L.marker%28%0A%20%20%20%20%20%20%20%20%20%20%20%20%20%20%20%20%5B41.495544%2C%20-81.685285%5D%2C%0A%20%20%20%20%20%20%20%20%20%20%20%20%20%20%20%20%7B%7D%0A%20%20%20%20%20%20%20%20%20%20%20%20%29.addTo%28map_ee6ca81d324b410cb7a4e5b891430cc7%29%3B%0A%20%20%20%20%20%20%20%20%0A%20%20%20%20%0A%20%20%20%20%20%20%20%20var%20popup_9ede05c1a15941a3b36440c575694211%20%3D%20L.popup%28%7B%22maxWidth%22%3A%20%22100%25%22%7D%29%3B%0A%0A%20%20%20%20%20%20%20%20%0A%20%20%20%20%20%20%20%20%20%20%20%20var%20html_d563faf220404b23a01c6d208a6b5179%20%3D%20%24%28%60%3Cdiv%20id%3D%22html_d563faf220404b23a01c6d208a6b5179%22%20style%3D%22width%3A%20100.0%25%3B%20height%3A%20100.0%25%3B%22%3EHome%20Plate%20-%20Progressive%20Field%3C/div%3E%60%29%5B0%5D%3B%0A%20%20%20%20%20%20%20%20%20%20%20%20popup_9ede05c1a15941a3b36440c575694211.setContent%28html_d563faf220404b23a01c6d208a6b5179%29%3B%0A%20%20%20%20%20%20%20%20%0A%0A%20%20%20%20%20%20%20%20marker_f0fae02c665f4b8598a602b178789018.bindPopup%28popup_9ede05c1a15941a3b36440c575694211%29%0A%20%20%20%20%20%20%20%20%3B%0A%0A%20%20%20%20%20%20%20%20%0A%20%20%20%20%0A%20%20%20%20%0A%20%20%20%20%20%20%20%20%20%20%20%20var%20circle_582faae7a5ad45ab982ab1ffca284e89%20%3D%20L.circle%28%0A%20%20%20%20%20%20%20%20%20%20%20%20%20%20%20%20%5B41.495544%2C%20-81.685285%5D%2C%0A%20%20%20%20%20%20%20%20%20%20%20%20%20%20%20%20%7B%22bubblingMouseEvents%22%3A%20true%2C%20%22color%22%3A%20%22red%22%2C%20%22dashArray%22%3A%20null%2C%20%22dashOffset%22%3A%20null%2C%20%22fill%22%3A%20false%2C%20%22fillColor%22%3A%20%22red%22%2C%20%22fillOpacity%22%3A%200.2%2C%20%22fillRule%22%3A%20%22evenodd%22%2C%20%22lineCap%22%3A%20%22round%22%2C%20%22lineJoin%22%3A%20%22round%22%2C%20%22opacity%22%3A%201.0%2C%20%22radius%22%3A%201773.6311999999998%2C%20%22stroke%22%3A%20true%2C%20%22weight%22%3A%205%7D%0A%20%20%20%20%20%20%20%20%20%20%20%20%29.addTo%28map_ee6ca81d324b410cb7a4e5b891430cc7%29%3B%0A%20%20%20%20%20%20%20%20%0A%20%20%20%20%0A%20%20%20%20%20%20%20%20var%20popup_af0f10fa48e0409992a444694c034e6b%20%3D%20L.popup%28%7B%22maxWidth%22%3A%20%22100%25%22%7D%29%3B%0A%0A%20%20%20%20%20%20%20%20%0A%20%20%20%20%20%20%20%20%20%20%20%20var%20html_ab3054f5c20b4d4ab0f283730a2ca1ca%20%3D%20%24%28%60%3Cdiv%20id%3D%22html_ab3054f5c20b4d4ab0f283730a2ca1ca%22%20style%3D%22width%3A%20100.0%25%3B%20height%3A%20100.0%25%3B%22%3EAlex%20Bregman%2C%205819.0%20feet%3C/div%3E%60%29%5B0%5D%3B%0A%20%20%20%20%20%20%20%20%20%20%20%20popup_af0f10fa48e0409992a444694c034e6b.setContent%28html_ab3054f5c20b4d4ab0f283730a2ca1ca%29%3B%0A%20%20%20%20%20%20%20%20%0A%0A%20%20%20%20%20%20%20%20circle_582faae7a5ad45ab982ab1ffca284e89.bindPopup%28popup_af0f10fa48e0409992a444694c034e6b%29%0A%20%20%20%20%20%20%20%20%3B%0A%0A%20%20%20%20%20%20%20%20%0A%20%20%20%20%0A%20%20%20%20%0A%20%20%20%20%20%20%20%20%20%20%20%20var%20circle_5c0b7ff4a0664abbb398890ae81c88f3%20%3D%20L.circle%28%0A%20%20%20%20%20%20%20%20%20%20%20%20%20%20%20%20%5B41.495544%2C%20-81.685285%5D%2C%0A%20%20%20%20%20%20%20%20%20%20%20%20%20%20%20%20%7B%22bubblingMouseEvents%22%3A%20true%2C%20%22color%22%3A%20%22blue%22%2C%20%22dashArray%22%3A%20null%2C%20%22dashOffset%22%3A%20null%2C%20%22fill%22%3A%20false%2C%20%22fillColor%22%3A%20%22blue%22%2C%20%22fillOpacity%22%3A%200.2%2C%20%22fillRule%22%3A%20%22evenodd%22%2C%20%22lineCap%22%3A%20%22round%22%2C%20%22lineJoin%22%3A%20%22round%22%2C%20%22opacity%22%3A%201.0%2C%20%22radius%22%3A%201592.8848%2C%20%22stroke%22%3A%20true%2C%20%22weight%22%3A%205%7D%0A%20%20%20%20%20%20%20%20%20%20%20%20%29.addTo%28map_ee6ca81d324b410cb7a4e5b891430cc7%29%3B%0A%20%20%20%20%20%20%20%20%0A%20%20%20%20%0A%20%20%20%20%20%20%20%20var%20popup_3e25f0d27ece441eb73008b491dcd1a3%20%3D%20L.popup%28%7B%22maxWidth%22%3A%20%22100%25%22%7D%29%3B%0A%0A%20%20%20%20%20%20%20%20%0A%20%20%20%20%20%20%20%20%20%20%20%20var%20html_3ab24ad272154e6bb95b6f526acec664%20%3D%20%24%28%60%3Cdiv%20id%3D%22html_3ab24ad272154e6bb95b6f526acec664%22%20style%3D%22width%3A%20100.0%25%3B%20height%3A%20100.0%25%3B%22%3ECarlos%20Santana%2C%205226.0%20feet%3C/div%3E%60%29%5B0%5D%3B%0A%20%20%20%20%20%20%20%20%20%20%20%20popup_3e25f0d27ece441eb73008b491dcd1a3.setContent%28html_3ab24ad272154e6bb95b6f526acec664%29%3B%0A%20%20%20%20%20%20%20%20%0A%0A%20%20%20%20%20%20%20%20circle_5c0b7ff4a0664abbb398890ae81c88f3.bindPopup%28popup_3e25f0d27ece441eb73008b491dcd1a3%29%0A%20%20%20%20%20%20%20%20%3B%0A%0A%20%20%20%20%20%20%20%20%0A%20%20%20%20%0A%20%20%20%20%0A%20%20%20%20%20%20%20%20%20%20%20%20var%20circle_887f510d8a334dd28d2e12b8ff38343d%20%3D%20L.circle%28%0A%20%20%20%20%20%20%20%20%20%20%20%20%20%20%20%20%5B41.495544%2C%20-81.685285%5D%2C%0A%20%20%20%20%20%20%20%20%20%20%20%20%20%20%20%20%7B%22bubblingMouseEvents%22%3A%20true%2C%20%22color%22%3A%20%22green%22%2C%20%22dashArray%22%3A%20null%2C%20%22dashOffset%22%3A%20null%2C%20%22fill%22%3A%20false%2C%20%22fillColor%22%3A%20%22green%22%2C%20%22fillOpacity%22%3A%200.2%2C%20%22fillRule%22%3A%20%22evenodd%22%2C%20%22lineCap%22%3A%20%22round%22%2C%20%22lineJoin%22%3A%20%22round%22%2C%20%22opacity%22%3A%201.0%2C%20%22radius%22%3A%207547.152799999998%2C%20%22stroke%22%3A%20true%2C%20%22weight%22%3A%205%7D%0A%20%20%20%20%20%20%20%20%20%20%20%20%29.addTo%28map_ee6ca81d324b410cb7a4e5b891430cc7%29%3B%0A%20%20%20%20%20%20%20%20%0A%20%20%20%20%0A%20%20%20%20%20%20%20%20var%20popup_ab43c08264f449a89ab005679c4eef0d%20%3D%20L.popup%28%7B%22maxWidth%22%3A%20%22100%25%22%7D%29%3B%0A%0A%20%20%20%20%20%20%20%20%0A%20%20%20%20%20%20%20%20%20%20%20%20var%20html_58bc24f1bebf4c279ecc9139aeff0f8c%20%3D%20%24%28%60%3Cdiv%20id%3D%22html_58bc24f1bebf4c279ecc9139aeff0f8c%22%20style%3D%22width%3A%20100.0%25%3B%20height%3A%20100.0%25%3B%22%3EJoc%20Pederson%2C%2024761.0%20feet%3C/div%3E%60%29%5B0%5D%3B%0A%20%20%20%20%20%20%20%20%20%20%20%20popup_ab43c08264f449a89ab005679c4eef0d.setContent%28html_58bc24f1bebf4c279ecc9139aeff0f8c%29%3B%0A%20%20%20%20%20%20%20%20%0A%0A%20%20%20%20%20%20%20%20circle_887f510d8a334dd28d2e12b8ff38343d.bindPopup%28popup_ab43c08264f449a89ab005679c4eef0d%29%0A%20%20%20%20%20%20%20%20%3B%0A%0A%20%20%20%20%20%20%20%20%0A%20%20%20%20%0A%20%20%20%20%0A%20%20%20%20%20%20%20%20%20%20%20%20var%20circle_d75102d57cdf4da5aff208af3cb56789%20%3D%20L.circle%28%0A%20%20%20%20%20%20%20%20%20%20%20%20%20%20%20%20%5B41.495544%2C%20-81.685285%5D%2C%0A%20%20%20%20%20%20%20%20%20%20%20%20%20%20%20%20%7B%22bubblingMouseEvents%22%3A%20true%2C%20%22color%22%3A%20%22purple%22%2C%20%22dashArray%22%3A%20null%2C%20%22dashOffset%22%3A%20null%2C%20%22fill%22%3A%20false%2C%20%22fillColor%22%3A%20%22purple%22%2C%20%22fillOpacity%22%3A%200.2%2C%20%22fillRule%22%3A%20%22evenodd%22%2C%20%22lineCap%22%3A%20%22round%22%2C%20%22lineJoin%22%3A%20%22round%22%2C%20%22opacity%22%3A%201.0%2C%20%22radius%22%3A%202281.7328%2C%20%22stroke%22%3A%20true%2C%20%22weight%22%3A%205%7D%0A%20%20%20%20%20%20%20%20%20%20%20%20%29.addTo%28map_ee6ca81d324b410cb7a4e5b891430cc7%29%3B%0A%20%20%20%20%20%20%20%20%0A%20%20%20%20%0A%20%20%20%20%20%20%20%20var%20popup_9c00135ed9b54d0587dc8a7381b666a1%20%3D%20L.popup%28%7B%22maxWidth%22%3A%20%22100%25%22%7D%29%3B%0A%0A%20%20%20%20%20%20%20%20%0A%20%20%20%20%20%20%20%20%20%20%20%20var%20html_88586443423249edbe93e61a23db74cf%20%3D%20%24%28%60%3Cdiv%20id%3D%22html_88586443423249edbe93e61a23db74cf%22%20style%3D%22width%3A%20100.0%25%3B%20height%3A%20100.0%25%3B%22%3EJosh%20Bell%2C%207486.0%20feet%3C/div%3E%60%29%5B0%5D%3B%0A%20%20%20%20%20%20%20%20%20%20%20%20popup_9c00135ed9b54d0587dc8a7381b666a1.setContent%28html_88586443423249edbe93e61a23db74cf%29%3B%0A%20%20%20%20%20%20%20%20%0A%0A%20%20%20%20%20%20%20%20circle_d75102d57cdf4da5aff208af3cb56789.bindPopup%28popup_9c00135ed9b54d0587dc8a7381b666a1%29%0A%20%20%20%20%20%20%20%20%3B%0A%0A%20%20%20%20%20%20%20%20%0A%20%20%20%20%0A%20%20%20%20%0A%20%20%20%20%20%20%20%20%20%20%20%20var%20circle_7f80f9131aab44de96fa901d3b175ce6%20%3D%20L.circle%28%0A%20%20%20%20%20%20%20%20%20%20%20%20%20%20%20%20%5B41.495544%2C%20-81.685285%5D%2C%0A%20%20%20%20%20%20%20%20%20%20%20%20%20%20%20%20%7B%22bubblingMouseEvents%22%3A%20true%2C%20%22color%22%3A%20%22orange%22%2C%20%22dashArray%22%3A%20null%2C%20%22dashOffset%22%3A%20null%2C%20%22fill%22%3A%20false%2C%20%22fillColor%22%3A%20%22orange%22%2C%20%22fillOpacity%22%3A%200.2%2C%20%22fillRule%22%3A%20%22evenodd%22%2C%20%22lineCap%22%3A%20%22round%22%2C%20%22lineJoin%22%3A%20%22round%22%2C%20%22opacity%22%3A%201.0%2C%20%22radius%22%3A%201712.0616%2C%20%22stroke%22%3A%20true%2C%20%22weight%22%3A%205%7D%0A%20%20%20%20%20%20%20%20%20%20%20%20%29.addTo%28map_ee6ca81d324b410cb7a4e5b891430cc7%29%3B%0A%20%20%20%20%20%20%20%20%0A%20%20%20%20%0A%20%20%20%20%20%20%20%20var%20popup_5e24012458b2441a8ef68db125886e09%20%3D%20L.popup%28%7B%22maxWidth%22%3A%20%22100%25%22%7D%29%3B%0A%0A%20%20%20%20%20%20%20%20%0A%20%20%20%20%20%20%20%20%20%20%20%20var%20html_e6c76ef3d51340849caa81f9efc939a1%20%3D%20%24%28%60%3Cdiv%20id%3D%22html_e6c76ef3d51340849caa81f9efc939a1%22%20style%3D%22width%3A%20100.0%25%3B%20height%3A%20100.0%25%3B%22%3EMatt%20Chapman%2C%205617.0%20feet%3C/div%3E%60%29%5B0%5D%3B%0A%20%20%20%20%20%20%20%20%20%20%20%20popup_5e24012458b2441a8ef68db125886e09.setContent%28html_e6c76ef3d51340849caa81f9efc939a1%29%3B%0A%20%20%20%20%20%20%20%20%0A%0A%20%20%20%20%20%20%20%20circle_7f80f9131aab44de96fa901d3b175ce6.bindPopup%28popup_5e24012458b2441a8ef68db125886e09%29%0A%20%20%20%20%20%20%20%20%3B%0A%0A%20%20%20%20%20%20%20%20%0A%20%20%20%20%0A%20%20%20%20%0A%20%20%20%20%20%20%20%20%20%20%20%20var%20circle_94956e290b684bb3ab5c5ef94f56cd44%20%3D%20L.circle%28%0A%20%20%20%20%20%20%20%20%20%20%20%20%20%20%20%20%5B41.495544%2C%20-81.685285%5D%2C%0A%20%20%20%20%20%20%20%20%20%20%20%20%20%20%20%20%7B%22bubblingMouseEvents%22%3A%20true%2C%20%22color%22%3A%20%22darkred%22%2C%20%22dashArray%22%3A%20null%2C%20%22dashOffset%22%3A%20null%2C%20%22fill%22%3A%20false%2C%20%22fillColor%22%3A%20%22darkred%22%2C%20%22fillOpacity%22%3A%200.2%2C%20%22fillRule%22%3A%20%22evenodd%22%2C%20%22lineCap%22%3A%20%22round%22%2C%20%22lineJoin%22%3A%20%22round%22%2C%20%22opacity%22%3A%201.0%2C%20%22radius%22%3A%207355.738400000002%2C%20%22stroke%22%3A%20true%2C%20%22weight%22%3A%205%7D%0A%20%20%20%20%20%20%20%20%20%20%20%20%29.addTo%28map_ee6ca81d324b410cb7a4e5b891430cc7%29%3B%0A%20%20%20%20%20%20%20%20%0A%20%20%20%20%0A%20%20%20%20%20%20%20%20var%20popup_07c0bdcd713b46549a95b1ed742fc119%20%3D%20L.popup%28%7B%22maxWidth%22%3A%20%22100%25%22%7D%29%3B%0A%0A%20%20%20%20%20%20%20%20%0A%20%20%20%20%20%20%20%20%20%20%20%20var%20html_e6c1399ce5544596984044d141c2f973%20%3D%20%24%28%60%3Cdiv%20id%3D%22html_e6c1399ce5544596984044d141c2f973%22%20style%3D%22width%3A%20100.0%25%3B%20height%3A%20100.0%25%3B%22%3EPete%20Alonso%2C%2024133.0%20feet%3C/div%3E%60%29%5B0%5D%3B%0A%20%20%20%20%20%20%20%20%20%20%20%20popup_07c0bdcd713b46549a95b1ed742fc119.setContent%28html_e6c1399ce5544596984044d141c2f973%29%3B%0A%20%20%20%20%20%20%20%20%0A%0A%20%20%20%20%20%20%20%20circle_94956e290b684bb3ab5c5ef94f56cd44.bindPopup%28popup_07c0bdcd713b46549a95b1ed742fc119%29%0A%20%20%20%20%20%20%20%20%3B%0A%0A%20%20%20%20%20%20%20%20%0A%20%20%20%20%0A%20%20%20%20%0A%20%20%20%20%20%20%20%20%20%20%20%20var%20circle_6f0500af6f8c44eeac373527d36b65fc%20%3D%20L.circle%28%0A%20%20%20%20%20%20%20%20%20%20%20%20%20%20%20%20%5B41.495544%2C%20-81.685285%5D%2C%0A%20%20%20%20%20%20%20%20%20%20%20%20%20%20%20%20%7B%22bubblingMouseEvents%22%3A%20true%2C%20%22color%22%3A%20%22darkblue%22%2C%20%22dashArray%22%3A%20null%2C%20%22dashOffset%22%3A%20null%2C%20%22fill%22%3A%20false%2C%20%22fillColor%22%3A%20%22darkblue%22%2C%20%22fillOpacity%22%3A%200.2%2C%20%22fillRule%22%3A%20%22evenodd%22%2C%20%22lineCap%22%3A%20%22round%22%2C%20%22lineJoin%22%3A%20%22round%22%2C%20%22opacity%22%3A%201.0%2C%20%22radius%22%3A%205700.9792000000025%2C%20%22stroke%22%3A%20true%2C%20%22weight%22%3A%205%7D%0A%20%20%20%20%20%20%20%20%20%20%20%20%29.addTo%28map_ee6ca81d324b410cb7a4e5b891430cc7%29%3B%0A%20%20%20%20%20%20%20%20%0A%20%20%20%20%0A%20%20%20%20%20%20%20%20var%20popup_1bcf22d2e57c4aac9801b8e94c4fcb17%20%3D%20L.popup%28%7B%22maxWidth%22%3A%20%22100%25%22%7D%29%3B%0A%0A%20%20%20%20%20%20%20%20%0A%20%20%20%20%20%20%20%20%20%20%20%20var%20html_80ee6ee325534df8a478d16ee131d852%20%3D%20%24%28%60%3Cdiv%20id%3D%22html_80ee6ee325534df8a478d16ee131d852%22%20style%3D%22width%3A%20100.0%25%3B%20height%3A%20100.0%25%3B%22%3ERonald%20Acuna%20Jr.%2C%2018704.0%20feet%3C/div%3E%60%29%5B0%5D%3B%0A%20%20%20%20%20%20%20%20%20%20%20%20popup_1bcf22d2e57c4aac9801b8e94c4fcb17.setContent%28html_80ee6ee325534df8a478d16ee131d852%29%3B%0A%20%20%20%20%20%20%20%20%0A%0A%20%20%20%20%20%20%20%20circle_6f0500af6f8c44eeac373527d36b65fc.bindPopup%28popup_1bcf22d2e57c4aac9801b8e94c4fcb17%29%0A%20%20%20%20%20%20%20%20%3B%0A%0A%20%20%20%20%20%20%20%20%0A%20%20%20%20%0A%20%20%20%20%0A%20%20%20%20%20%20%20%20%20%20%20%20var%20circle_69a2e6ff93e849c39470295c26e49014%20%3D%20L.circle%28%0A%20%20%20%20%20%20%20%20%20%20%20%20%20%20%20%20%5B41.495544%2C%20-81.685285%5D%2C%0A%20%20%20%20%20%20%20%20%20%20%20%20%20%20%20%20%7B%22bubblingMouseEvents%22%3A%20true%2C%20%22color%22%3A%20%22cadetblue%22%2C%20%22dashArray%22%3A%20null%2C%20%22dashOffset%22%3A%20null%2C%20%22fill%22%3A%20false%2C%20%22fillColor%22%3A%20%22cadetblue%22%2C%20%22fillOpacity%22%3A%200.2%2C%20%22fillRule%22%3A%20%22evenodd%22%2C%20%22lineCap%22%3A%20%22round%22%2C%20%22lineJoin%22%3A%20%22round%22%2C%20%22opacity%22%3A%201.0%2C%20%22radius%22%3A%2011411.102400000007%2C%20%22stroke%22%3A%20true%2C%20%22weight%22%3A%205%7D%0A%20%20%20%20%20%20%20%20%20%20%20%20%29.addTo%28map_ee6ca81d324b410cb7a4e5b891430cc7%29%3B%0A%20%20%20%20%20%20%20%20%0A%20%20%20%20%0A%20%20%20%20%20%20%20%20var%20popup_e2fb4ef57ede41af8a21b88fcfa8a4ed%20%3D%20L.popup%28%7B%22maxWidth%22%3A%20%22100%25%22%7D%29%3B%0A%0A%20%20%20%20%20%20%20%20%0A%20%20%20%20%20%20%20%20%20%20%20%20var%20html_fc62a19b4c964c23b981bd8c5231feef%20%3D%20%24%28%60%3Cdiv%20id%3D%22html_fc62a19b4c964c23b981bd8c5231feef%22%20style%3D%22width%3A%20100.0%25%3B%20height%3A%20100.0%25%3B%22%3EVladimir%20Guerrero%20Jr.%2C%2037438.0%20feet%3C/div%3E%60%29%5B0%5D%3B%0A%20%20%20%20%20%20%20%20%20%20%20%20popup_e2fb4ef57ede41af8a21b88fcfa8a4ed.setContent%28html_fc62a19b4c964c23b981bd8c5231feef%29%3B%0A%20%20%20%20%20%20%20%20%0A%0A%20%20%20%20%20%20%20%20circle_69a2e6ff93e849c39470295c26e49014.bindPopup%28popup_e2fb4ef57ede41af8a21b88fcfa8a4ed%29%0A%20%20%20%20%20%20%20%20%3B%0A%0A%20%20%20%20%20%20%20%20%0A%20%20%20%20%0A%20%20%20%20%0A%20%20%20%20%20%20%20%20%20%20%20%20var%20circle_f9f7c93069394a6c8181d847f88d6ace%20%3D%20L.circle%28%0A%20%20%20%20%20%20%20%20%20%20%20%20%20%20%20%20%5B41.495544%2C%20-81.685285%5D%2C%0A%20%20%20%20%20%20%20%20%20%20%20%20%20%20%20%20%7B%22bubblingMouseEvents%22%3A%20true%2C%20%22color%22%3A%20%22black%22%2C%20%22dashArray%22%3A%20null%2C%20%22dashOffset%22%3A%20null%2C%20%22fill%22%3A%20false%2C%20%22fillColor%22%3A%20%22black%22%2C%20%22fillOpacity%22%3A%200.2%2C%20%22fillRule%22%3A%20%22evenodd%22%2C%20%22lineCap%22%3A%20%22round%22%2C%20%22lineJoin%22%3A%20%22round%22%2C%20%22opacity%22%3A%201.0%2C%20%22radius%22%3A%2039375.283200000005%2C%20%22stroke%22%3A%20true%2C%20%22weight%22%3A%203%7D%0A%20%20%20%20%20%20%20%20%20%20%20%20%29.addTo%28map_ee6ca81d324b410cb7a4e5b891430cc7%29%3B%0A%20%20%20%20%20%20%20%20%0A%20%20%20%20%0A%20%20%20%20%20%20%20%20var%20popup_cbf14fc4357f433eb560905615ff5dd9%20%3D%20L.popup%28%7B%22maxWidth%22%3A%20%22100%25%22%7D%29%3B%0A%0A%20%20%20%20%20%20%20%20%0A%20%20%20%20%20%20%20%20%20%20%20%20var%20html_8cd5b619e0a94ca8a5918a9ddb67a291%20%3D%20%24%28%60%3Cdiv%20id%3D%22html_8cd5b619e0a94ca8a5918a9ddb67a291%22%20style%3D%22width%3A%20100.0%25%3B%20height%3A%20100.0%25%3B%22%3EAll%20Batters%2C%20129184.0%20feet%3C/div%3E%60%29%5B0%5D%3B%0A%20%20%20%20%20%20%20%20%20%20%20%20popup_cbf14fc4357f433eb560905615ff5dd9.setContent%28html_8cd5b619e0a94ca8a5918a9ddb67a291%29%3B%0A%20%20%20%20%20%20%20%20%0A%0A%20%20%20%20%20%20%20%20circle_f9f7c93069394a6c8181d847f88d6ace.bindPopup%28popup_cbf14fc4357f433eb560905615ff5dd9%29%0A%20%20%20%20%20%20%20%20%3B%0A%0A%20%20%20%20%20%20%20%20%0A%20%20%20%20%0A%3C/script%3E onload=\"this.contentDocument.open();this.contentDocument.write(    decodeURIComponent(this.getAttribute('data-html')));this.contentDocument.close();\" allowfullscreen webkitallowfullscreen mozallowfullscreen></iframe></div></div>"
      ],
      "text/plain": [
       "<folium.folium.Map at 0x243e0cf4f10>"
      ]
     },
     "execution_count": 177,
     "metadata": {},
     "output_type": "execute_result"
    }
   ],
   "source": [
    "m"
   ]
  },
  {
   "cell_type": "code",
   "execution_count": null,
   "metadata": {},
   "outputs": [],
   "source": []
  },
  {
   "cell_type": "code",
   "execution_count": null,
   "metadata": {},
   "outputs": [],
   "source": []
  }
 ],
 "metadata": {
  "kernelspec": {
   "display_name": "Python 3",
   "language": "python",
   "name": "python3"
  },
  "language_info": {
   "codemirror_mode": {
    "name": "ipython",
    "version": 3
   },
   "file_extension": ".py",
   "mimetype": "text/x-python",
   "name": "python",
   "nbconvert_exporter": "python",
   "pygments_lexer": "ipython3",
   "version": "3.8.5"
  }
 },
 "nbformat": 4,
 "nbformat_minor": 4
}
